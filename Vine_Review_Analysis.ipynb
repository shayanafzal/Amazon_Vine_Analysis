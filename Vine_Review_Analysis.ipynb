{
  "nbformat": 4,
  "nbformat_minor": 0,
  "metadata": {
    "colab": {
      "name": "Vine_Review_Analysis.ipynb",
      "provenance": [],
      "collapsed_sections": []
    },
    "kernelspec": {
      "name": "python3",
      "display_name": "Python 3"
    },
    "language_info": {
      "name": "python"
    }
  },
  "cells": [
    {
      "cell_type": "code",
      "metadata": {
        "colab": {
          "base_uri": "https://localhost:8080/"
        },
        "id": "E7-8ip1GpJxg",
        "outputId": "0aa9b588-7b91-4f73-d12e-6a97d9b48ac2"
      },
      "source": [
        "import os\n",
        "# Find the latest version of spark 3.0 from http://www.apache.org/dist/spark/ and enter as the spark version\n",
        "# For example:\n",
        "# spark_version = 'spark-3.0.3'\n",
        "spark_version = 'spark-3.0.3'\n",
        "os.environ['SPARK_VERSION']=spark_version\n",
        "\n",
        "# Install Spark and Java\n",
        "!apt-get update\n",
        "!apt-get install openjdk-11-jdk-headless -qq > /dev/null\n",
        "!wget -q http://www.apache.org/dist/spark/$SPARK_VERSION/$SPARK_VERSION-bin-hadoop2.7.tgz\n",
        "!tar xf $SPARK_VERSION-bin-hadoop2.7.tgz\n",
        "!pip install -q findspark\n",
        "\n",
        "# Set Environment Variables\n",
        "import os\n",
        "os.environ[\"JAVA_HOME\"] = \"/usr/lib/jvm/java-11-openjdk-amd64\"\n",
        "os.environ[\"SPARK_HOME\"] = f\"/content/{spark_version}-bin-hadoop2.7\"\n",
        "\n",
        "# Start a SparkSession\n",
        "import findspark\n",
        "findspark.init()"
      ],
      "execution_count": null,
      "outputs": [
        {
          "output_type": "stream",
          "text": [
            "\r0% [Working]\r            \rIgn:1 https://developer.download.nvidia.com/compute/cuda/repos/ubuntu1804/x86_64  InRelease\n",
            "\r0% [Connecting to archive.ubuntu.com (91.189.88.142)] [Waiting for headers] [Wa\r                                                                               \rHit:2 https://cloud.r-project.org/bin/linux/ubuntu bionic-cran40/ InRelease\n",
            "Ign:3 https://developer.download.nvidia.com/compute/machine-learning/repos/ubuntu1804/x86_64  InRelease\n",
            "Hit:4 https://developer.download.nvidia.com/compute/cuda/repos/ubuntu1804/x86_64  Release\n",
            "Hit:5 https://developer.download.nvidia.com/compute/machine-learning/repos/ubuntu1804/x86_64  Release\n",
            "Get:6 http://security.ubuntu.com/ubuntu bionic-security InRelease [88.7 kB]\n",
            "Hit:7 http://ppa.launchpad.net/c2d4u.team/c2d4u4.0+/ubuntu bionic InRelease\n",
            "Hit:8 http://archive.ubuntu.com/ubuntu bionic InRelease\n",
            "Get:9 http://archive.ubuntu.com/ubuntu bionic-updates InRelease [88.7 kB]\n",
            "Hit:10 http://ppa.launchpad.net/cran/libgit2/ubuntu bionic InRelease\n",
            "Hit:13 http://ppa.launchpad.net/deadsnakes/ppa/ubuntu bionic InRelease\n",
            "Get:14 http://archive.ubuntu.com/ubuntu bionic-backports InRelease [74.6 kB]\n",
            "Hit:15 http://ppa.launchpad.net/graphics-drivers/ppa/ubuntu bionic InRelease\n",
            "Fetched 252 kB in 3s (97.5 kB/s)\n",
            "Reading package lists... Done\n"
          ],
          "name": "stdout"
        }
      ]
    },
    {
      "cell_type": "code",
      "metadata": {
        "id": "ZKbBELfRsHvM"
      },
      "source": [
        "from pyspark.sql import SparkSession\n",
        "spark = SparkSession.builder.appName(\"M16-Amazon-Challenge\").config(\"spark.driver.extraClassPath\",\"/content/postgresql-42.2.16.jar\").getOrCreate()"
      ],
      "execution_count": null,
      "outputs": []
    },
    {
      "cell_type": "code",
      "metadata": {
        "colab": {
          "base_uri": "https://localhost:8080/"
        },
        "id": "O611wWAgsoC9",
        "outputId": "50e6ba3d-5d5d-4e67-c862-6629409556ae"
      },
      "source": [
        "from pyspark import SparkFiles\n",
        "url = \"https://s3.amazonaws.com/amazon-reviews-pds/tsv/amazon_reviews_us_Books_v1_00.tsv.gz\"\n",
        "spark.sparkContext.addFile(url)\n",
        "df = spark.read.option(\"encoding\", \"UTF-8\").csv(SparkFiles.get(\"\"), sep=\"\\t\", header=True, inferSchema=True)\n",
        "df.show()"
      ],
      "execution_count": null,
      "outputs": [
        {
          "output_type": "stream",
          "text": [
            "+-----------+-----------+--------------+----------+--------------+--------------------+----------------+-----------+-------------+-----------+----+-----------------+--------------------+--------------------+-----------+\n",
            "|marketplace|customer_id|     review_id|product_id|product_parent|       product_title|product_category|star_rating|helpful_votes|total_votes|vine|verified_purchase|     review_headline|         review_body|review_date|\n",
            "+-----------+-----------+--------------+----------+--------------+--------------------+----------------+-----------+-------------+-----------+----+-----------------+--------------------+--------------------+-----------+\n",
            "|         US|   25933450| RJOVP071AVAJO|0439873800|      84656342|There Was an Old ...|           Books|          5|            0|          0|   N|                Y|          Five Stars|I love it and so ...| 2015-08-31|\n",
            "|         US|    1801372|R1ORGBETCDW3AI|1623953553|     729938122|      I Saw a Friend|           Books|          5|            0|          0|   N|                Y|Please buy \"I Saw...|My wife and I ord...| 2015-08-31|\n",
            "|         US|    5782091| R7TNRFQAOUTX5|142151981X|     678139048|Black Lagoon, Vol. 6|           Books|          5|            0|          0|   N|                Y|       Shipped fast.|Great book just l...| 2015-08-31|\n",
            "|         US|   32715830|R2GANXKDIFZ6OI|014241543X|     712432151|           If I Stay|           Books|          5|            0|          0|   N|                N|          Five Stars|        So beautiful| 2015-08-31|\n",
            "|         US|   14005703|R2NYB6C3R8LVN6|1604600527|     800572372|Stars 'N Strips F...|           Books|          5|            2|          2|   N|                Y|          Five Stars|Enjoyed the autho...| 2015-08-31|\n",
            "|         US|   36205738|R13U5PBJI1H94K|0399170863|     559876774|            The Liar|           Books|          2|            1|          1|   N|                N|PREDICTABLE ALMOS...|Two or three page...| 2015-08-31|\n",
            "|         US|   44121167|R1H8UVH990F8VE|1517007240|     299984591|Devil in the Deta...|           Books|          5|            2|          2|   N|                N|The Monastery Mur...|&#34;Secrets in t...| 2015-08-31|\n",
            "|         US|   16519255|R2MC0N30WZMRQ5|0671728725|     821650353|Knowing When to S...|           Books|          5|            0|          0|   N|                Y|          Five Stars|          I love it!| 2015-08-31|\n",
            "|         US|   49361350| R2NO2HXK16Y4J|1111349533|     419457767|The American Pageant|           Books|          5|            0|          0|   N|                Y|          Five Stars|It was a great pu...| 2015-08-31|\n",
            "|         US|   11423253|R245YIAVJK82ZL|812211637X|     285887177|Punjabi C.L. Bibl...|           Books|          5|            0|          0|   N|                Y|          Five Stars|Quality product f...| 2015-08-31|\n",
            "|         US|   37536260| RFBMLBWQOZ1UM|0679413359|      58983679|The Aeneid (Every...|           Books|          5|            0|          0|   N|                Y|          Five Stars|          Very happy| 2015-08-31|\n",
            "|         US|   23614950| RHE1FEWV3KTQH|0983990662|     222024699|The YMCA of Middl...|           Books|          5|            0|          0|   N|                Y|Great history boo...|Love reading all ...| 2015-08-31|\n",
            "|         US|   12641855|R2BB9U7PHO7ETO|156852062X|     388128348|Memoirs By Harry ...|           Books|          5|            0|          1|   N|                Y|          Five Stars|such a great purc...| 2015-08-31|\n",
            "|         US|   36327169|R28XJJP754GYXO|B0007E4WJ4|     842975364|Arms of our fight...|           Books|          4|            0|          0|   N|                Y|          Four Stars|book was fine Tha...| 2015-08-31|\n",
            "|         US|   49735028|R2G519UREHRO8M|0664254969|     248307276|Presbyterian Cree...|           Books|          3|            0|          1|   N|                Y|The Presbyterian ...|The Presbyterian ...| 2015-08-31|\n",
            "|         US|   39348901| RPBKCEIN3UISD|1570913722|       9340721|Hello Ocean/Hola mar|           Books|          5|            0|          0|   N|                Y|          Five Stars|beautiful work an...| 2015-08-31|\n",
            "|         US|    5782091|R2DOB8482VGJ8W|0345313860|     630892090|The Vampire Lesta...|           Books|          5|            0|          0|   N|                Y|       Shipped fast.|This is my favori...| 2015-08-31|\n",
            "|         US|   30063158|R2XKOET5M8W36S|0670025593|     479521754|The Book of Life ...|           Books|          5|            0|          0|   N|                Y|One of my favorites!|Love Deborah Harn...| 2015-08-31|\n",
            "|         US|     125518|R377BCSTZ4D2QP|161893158X|     399670838|Disney Descendant...|           Books|          5|            1|          1|   N|                Y|... has all three...|Now my daughter h...| 2015-08-31|\n",
            "|         US|   22297413|R3A39XZ5SB97MK|007179512X|      47243107|CompTIA A+ Certif...|           Books|          5|            0|          0|   N|                Y|He said it has be...|Bought this book ...| 2015-08-31|\n",
            "+-----------+-----------+--------------+----------+--------------+--------------------+----------------+-----------+-------------+-----------+----+-----------------+--------------------+--------------------+-----------+\n",
            "only showing top 20 rows\n",
            "\n"
          ],
          "name": "stdout"
        }
      ]
    },
    {
      "cell_type": "code",
      "metadata": {
        "colab": {
          "base_uri": "https://localhost:8080/"
        },
        "id": "DkXGo11Bs7rN",
        "outputId": "958cf923-8a6c-4905-dd4f-da0494972d3b"
      },
      "source": [
        "vine_df = df.select ([\"review_id\", \"star_rating\", \"helpful_votes\", \"total_votes\", \"vine\", \"verified_purchase\"])\n",
        "vine_df.show()"
      ],
      "execution_count": null,
      "outputs": [
        {
          "output_type": "stream",
          "text": [
            "+--------------+-----------+-------------+-----------+----+-----------------+\n",
            "|     review_id|star_rating|helpful_votes|total_votes|vine|verified_purchase|\n",
            "+--------------+-----------+-------------+-----------+----+-----------------+\n",
            "| RJOVP071AVAJO|          5|            0|          0|   N|                Y|\n",
            "|R1ORGBETCDW3AI|          5|            0|          0|   N|                Y|\n",
            "| R7TNRFQAOUTX5|          5|            0|          0|   N|                Y|\n",
            "|R2GANXKDIFZ6OI|          5|            0|          0|   N|                N|\n",
            "|R2NYB6C3R8LVN6|          5|            2|          2|   N|                Y|\n",
            "|R13U5PBJI1H94K|          2|            1|          1|   N|                N|\n",
            "|R1H8UVH990F8VE|          5|            2|          2|   N|                N|\n",
            "|R2MC0N30WZMRQ5|          5|            0|          0|   N|                Y|\n",
            "| R2NO2HXK16Y4J|          5|            0|          0|   N|                Y|\n",
            "|R245YIAVJK82ZL|          5|            0|          0|   N|                Y|\n",
            "| RFBMLBWQOZ1UM|          5|            0|          0|   N|                Y|\n",
            "| RHE1FEWV3KTQH|          5|            0|          0|   N|                Y|\n",
            "|R2BB9U7PHO7ETO|          5|            0|          1|   N|                Y|\n",
            "|R28XJJP754GYXO|          4|            0|          0|   N|                Y|\n",
            "|R2G519UREHRO8M|          3|            0|          1|   N|                Y|\n",
            "| RPBKCEIN3UISD|          5|            0|          0|   N|                Y|\n",
            "|R2DOB8482VGJ8W|          5|            0|          0|   N|                Y|\n",
            "|R2XKOET5M8W36S|          5|            0|          0|   N|                Y|\n",
            "|R377BCSTZ4D2QP|          5|            1|          1|   N|                Y|\n",
            "|R3A39XZ5SB97MK|          5|            0|          0|   N|                Y|\n",
            "+--------------+-----------+-------------+-----------+----+-----------------+\n",
            "only showing top 20 rows\n",
            "\n"
          ],
          "name": "stdout"
        }
      ]
    },
    {
      "cell_type": "code",
      "metadata": {
        "colab": {
          "base_uri": "https://localhost:8080/"
        },
        "id": "QFq97t7As-zc",
        "outputId": "7c90455f-ca5e-4ec7-c58c-43c30a41782d"
      },
      "source": [
        "Vine_df_filtered = vine_df.filter ('total_votes>=20')\n",
        "Vine_df_filtered.show()"
      ],
      "execution_count": null,
      "outputs": [
        {
          "output_type": "stream",
          "text": [
            "+--------------+-----------+-------------+-----------+----+-----------------+\n",
            "|     review_id|star_rating|helpful_votes|total_votes|vine|verified_purchase|\n",
            "+--------------+-----------+-------------+-----------+----+-----------------+\n",
            "|R3T6LR4H11XRAN|          5|           26|         26|   N|                Y|\n",
            "|R3QFNFMFWOQIBO|          3|           15|         25|   N|                Y|\n",
            "|R24S2SV0ZIFIMV|          1|           41|         78|   N|                N|\n",
            "|R2QAPWF1M5863L|          1|            5|         23|   N|                N|\n",
            "|R3OCONKYE1A047|          5|           33|         38|   N|                N|\n",
            "|R28WZIA84DUP6C|          2|            4|         43|   N|                N|\n",
            "|R2U7YNJZ5JHWVD|          5|           23|         25|   N|                Y|\n",
            "|R1XVYF74WCJKO3|          1|           47|         49|   N|                N|\n",
            "|R3KKWNG5VABDYC|          5|           31|         32|   Y|                N|\n",
            "|R3KK9MHFLY2BVW|          5|           21|         22|   N|                N|\n",
            "|R2OEP8MGX5K370|          5|           30|         34|   N|                Y|\n",
            "| RTX63ENBKWCXF|          1|           28|         35|   N|                N|\n",
            "|R38I0D0J8O6LB6|          5|          101|        102|   N|                Y|\n",
            "|R16H89H2ZPISOL|          5|           66|         73|   N|                Y|\n",
            "|R1O92J5SV8J8G6|          5|          100|        102|   N|                Y|\n",
            "|R2N899RTMS7B7A|          1|           14|         20|   N|                Y|\n",
            "| RNRGC6W09WQM2|          1|            0|         45|   N|                Y|\n",
            "|R1FB2TRCTRIWWL|          1|            3|         20|   N|                N|\n",
            "| RO7NYOSZ65X1T|          1|            1|         76|   N|                N|\n",
            "|R2D9XX1FUD30NT|          1|           21|        213|   N|                N|\n",
            "+--------------+-----------+-------------+-----------+----+-----------------+\n",
            "only showing top 20 rows\n",
            "\n"
          ],
          "name": "stdout"
        }
      ]
    },
    {
      "cell_type": "code",
      "metadata": {
        "colab": {
          "base_uri": "https://localhost:8080/"
        },
        "id": "2woHL8QBtAhk",
        "outputId": "24d7a6b7-0b77-4709-8c15-d3910085da79"
      },
      "source": [
        "Vine_helpful_df = Vine_df_filtered.filter ('helpful_votes/total_votes>0.5')\n",
        "Vine_helpful_df.show()"
      ],
      "execution_count": null,
      "outputs": [
        {
          "output_type": "stream",
          "text": [
            "+--------------+-----------+-------------+-----------+----+-----------------+\n",
            "|     review_id|star_rating|helpful_votes|total_votes|vine|verified_purchase|\n",
            "+--------------+-----------+-------------+-----------+----+-----------------+\n",
            "|R3T6LR4H11XRAN|          5|           26|         26|   N|                Y|\n",
            "|R3QFNFMFWOQIBO|          3|           15|         25|   N|                Y|\n",
            "|R24S2SV0ZIFIMV|          1|           41|         78|   N|                N|\n",
            "|R3OCONKYE1A047|          5|           33|         38|   N|                N|\n",
            "|R2U7YNJZ5JHWVD|          5|           23|         25|   N|                Y|\n",
            "|R1XVYF74WCJKO3|          1|           47|         49|   N|                N|\n",
            "|R3KKWNG5VABDYC|          5|           31|         32|   Y|                N|\n",
            "|R3KK9MHFLY2BVW|          5|           21|         22|   N|                N|\n",
            "|R2OEP8MGX5K370|          5|           30|         34|   N|                Y|\n",
            "| RTX63ENBKWCXF|          1|           28|         35|   N|                N|\n",
            "|R38I0D0J8O6LB6|          5|          101|        102|   N|                Y|\n",
            "|R16H89H2ZPISOL|          5|           66|         73|   N|                Y|\n",
            "|R1O92J5SV8J8G6|          5|          100|        102|   N|                Y|\n",
            "|R2N899RTMS7B7A|          1|           14|         20|   N|                Y|\n",
            "|R2K2D1XN0J8SD5|          4|           19|         21|   N|                Y|\n",
            "| RERKINI37W6KC|          5|           28|         31|   N|                Y|\n",
            "| R9GDG4O1ZK10T|          1|           71|         86|   N|                Y|\n",
            "|R3GOLJQC9OI7D4|          4|           28|         28|   N|                Y|\n",
            "|R37RUX3TXFJN24|          5|           52|         58|   N|                Y|\n",
            "|R1ESSNVJW3N2K4|          5|           42|         45|   N|                Y|\n",
            "+--------------+-----------+-------------+-----------+----+-----------------+\n",
            "only showing top 20 rows\n",
            "\n"
          ],
          "name": "stdout"
        }
      ]
    },
    {
      "cell_type": "code",
      "metadata": {
        "colab": {
          "base_uri": "https://localhost:8080/"
        },
        "id": "UkxuD9httDoi",
        "outputId": "3ff2408d-44d7-45d1-a52f-01ed4cdd4152"
      },
      "source": [
        "Vine_paid_df = Vine_helpful_df.filter ('vine == True')\n",
        "Vine_paid_df.show()"
      ],
      "execution_count": null,
      "outputs": [
        {
          "output_type": "stream",
          "text": [
            "+--------------+-----------+-------------+-----------+----+-----------------+\n",
            "|     review_id|star_rating|helpful_votes|total_votes|vine|verified_purchase|\n",
            "+--------------+-----------+-------------+-----------+----+-----------------+\n",
            "|R3KKWNG5VABDYC|          5|           31|         32|   Y|                N|\n",
            "|R397PIJYYVJ7PD|          4|           31|         32|   Y|                N|\n",
            "| RP6Y2CTIFUYD0|          2|           31|         32|   Y|                N|\n",
            "|R1FYRNM5U0S2VZ|          3|           20|         24|   Y|                N|\n",
            "| R1ME19UY4UNAO|          5|           53|         57|   Y|                N|\n",
            "|R1JW7ZHT2VLT1E|          3|           40|         45|   Y|                N|\n",
            "| R98UYXY43TURV|          4|           46|         50|   Y|                N|\n",
            "|R34VXM3EJDS78Z|          3|          374|        410|   Y|                N|\n",
            "|R1QX8UOW5JO6L0|          4|           20|         21|   Y|                N|\n",
            "| R5Y5SXCRQ2GNH|          3|           34|         37|   Y|                N|\n",
            "|R2PBQNQR80F6HP|          4|           20|         20|   Y|                N|\n",
            "|R1YI5U4BF4ZLRQ|          3|           16|         20|   Y|                N|\n",
            "|R1Q5ZXA44R3E76|          4|           28|         31|   Y|                N|\n",
            "| RCLSDAIJR6FUG|          5|          113|        123|   Y|                N|\n",
            "|R30QKO5AIO2828|          5|           17|         20|   Y|                N|\n",
            "|R3TPSU0ZG7K5RA|          5|           34|         37|   Y|                N|\n",
            "|R3HSQ5EH8IIUOM|          4|           49|         63|   Y|                N|\n",
            "|R2L4DAT0DWS9P3|          4|           28|         29|   Y|                N|\n",
            "|R2TSF7WN3DY921|          5|           22|         26|   Y|                N|\n",
            "|R1LY9Y3SS9JCTR|          2|           53|        100|   Y|                N|\n",
            "+--------------+-----------+-------------+-----------+----+-----------------+\n",
            "only showing top 20 rows\n",
            "\n"
          ],
          "name": "stdout"
        }
      ]
    },
    {
      "cell_type": "code",
      "metadata": {
        "colab": {
          "base_uri": "https://localhost:8080/"
        },
        "id": "D7Rmaz9MtFq6",
        "outputId": "3feeafaf-dd24-4db7-c294-4fece28a2361"
      },
      "source": [
        "Vine_unpaid_df=Vine_helpful_df.filter ('vine ==False')\n",
        "Vine_unpaid_df.show() "
      ],
      "execution_count": null,
      "outputs": [
        {
          "output_type": "stream",
          "text": [
            "+--------------+-----------+-------------+-----------+----+-----------------+\n",
            "|     review_id|star_rating|helpful_votes|total_votes|vine|verified_purchase|\n",
            "+--------------+-----------+-------------+-----------+----+-----------------+\n",
            "|R3T6LR4H11XRAN|          5|           26|         26|   N|                Y|\n",
            "|R3QFNFMFWOQIBO|          3|           15|         25|   N|                Y|\n",
            "|R24S2SV0ZIFIMV|          1|           41|         78|   N|                N|\n",
            "|R3OCONKYE1A047|          5|           33|         38|   N|                N|\n",
            "|R2U7YNJZ5JHWVD|          5|           23|         25|   N|                Y|\n",
            "|R1XVYF74WCJKO3|          1|           47|         49|   N|                N|\n",
            "|R3KK9MHFLY2BVW|          5|           21|         22|   N|                N|\n",
            "|R2OEP8MGX5K370|          5|           30|         34|   N|                Y|\n",
            "| RTX63ENBKWCXF|          1|           28|         35|   N|                N|\n",
            "|R38I0D0J8O6LB6|          5|          101|        102|   N|                Y|\n",
            "|R16H89H2ZPISOL|          5|           66|         73|   N|                Y|\n",
            "|R1O92J5SV8J8G6|          5|          100|        102|   N|                Y|\n",
            "|R2N899RTMS7B7A|          1|           14|         20|   N|                Y|\n",
            "|R2K2D1XN0J8SD5|          4|           19|         21|   N|                Y|\n",
            "| RERKINI37W6KC|          5|           28|         31|   N|                Y|\n",
            "| R9GDG4O1ZK10T|          1|           71|         86|   N|                Y|\n",
            "|R3GOLJQC9OI7D4|          4|           28|         28|   N|                Y|\n",
            "|R37RUX3TXFJN24|          5|           52|         58|   N|                Y|\n",
            "|R1ESSNVJW3N2K4|          5|           42|         45|   N|                Y|\n",
            "|R1Q1VLGAFGHLN7|          2|           78|         85|   N|                Y|\n",
            "+--------------+-----------+-------------+-----------+----+-----------------+\n",
            "only showing top 20 rows\n",
            "\n"
          ],
          "name": "stdout"
        }
      ]
    },
    {
      "cell_type": "code",
      "metadata": {
        "colab": {
          "base_uri": "https://localhost:8080/"
        },
        "id": "D5A2Yl9vtIz-",
        "outputId": "85ee3585-83b7-47fe-d386-2db3c4619803"
      },
      "source": [
        "# Total Unpaid Reviews\n",
        "total_unpaid_reviews = Vine_unpaid_df.count()\n",
        "print(total_unpaid_reviews)"
      ],
      "execution_count": null,
      "outputs": [
        {
          "output_type": "stream",
          "text": [
            "139467\n"
          ],
          "name": "stdout"
        }
      ]
    },
    {
      "cell_type": "code",
      "metadata": {
        "colab": {
          "base_uri": "https://localhost:8080/"
        },
        "id": "LwJvCmT1tRsB",
        "outputId": "4a5b931d-e6a4-43b9-ab71-3770f69c8430"
      },
      "source": [
        "# Total Unpaid 5-Star Reviews\n",
        "total_unpaid_5Star_reviews = Vine_unpaid_df.filter('star_rating==5').count()\n",
        "print(total_unpaid_5Star_reviews)"
      ],
      "execution_count": null,
      "outputs": [
        {
          "output_type": "stream",
          "text": [
            "64248\n"
          ],
          "name": "stdout"
        }
      ]
    },
    {
      "cell_type": "code",
      "metadata": {
        "colab": {
          "base_uri": "https://localhost:8080/"
        },
        "id": "KhDkzIaewP_V",
        "outputId": "fa6e3454-c68d-47a8-dec5-831c81c8a013"
      },
      "source": [
        "# Total Unpaid 5-Star Reviews Percentage\n",
        "total_unpaid_5Star_reviews_percentage = (total_unpaid_5Star_reviews/total_unpaid_reviews)*100\n",
        "print(total_unpaid_5Star_reviews_percentage)"
      ],
      "execution_count": null,
      "outputs": [
        {
          "output_type": "stream",
          "text": [
            "46.06681150379659\n"
          ],
          "name": "stdout"
        }
      ]
    },
    {
      "cell_type": "code",
      "metadata": {
        "id": "Uyha8Gyww0Q5",
        "colab": {
          "base_uri": "https://localhost:8080/"
        },
        "outputId": "e818d28d-b6b0-4dcc-cdda-69609409e87e"
      },
      "source": [
        "# Total Paid Reviews\n",
        "total_paid_reviews = Vine_paid_df.count()\n",
        "print(total_paid_reviews)\n"
      ],
      "execution_count": 40,
      "outputs": [
        {
          "output_type": "stream",
          "text": [
            "5272\n"
          ],
          "name": "stdout"
        }
      ]
    },
    {
      "cell_type": "code",
      "metadata": {
        "colab": {
          "base_uri": "https://localhost:8080/"
        },
        "id": "XSujQ2lCw6lf",
        "outputId": "244d80b1-2955-49a9-c35f-4fe7cf9e8c98"
      },
      "source": [
        "# Total Paid 5-Star Reviews\n",
        "total_paid_5Star_reviews = Vine_paid_df.filter('star_rating==5').count()\n",
        "print(total_paid_5Star_reviews)"
      ],
      "execution_count": 42,
      "outputs": [
        {
          "output_type": "stream",
          "text": [
            "2192\n"
          ],
          "name": "stdout"
        }
      ]
    },
    {
      "cell_type": "code",
      "metadata": {
        "colab": {
          "base_uri": "https://localhost:8080/"
        },
        "id": "OY_exevXxSzw",
        "outputId": "744d7f30-a629-4d40-bba7-ec7827abd54e"
      },
      "source": [
        "# Total Paid 5-Star Reviews Percentage\n",
        "total_paid_5Star_reviews_percentage = (total_paid_5Star_reviews/total_paid_reviews)*100\n",
        "print(total_paid_5Star_reviews_percentage)"
      ],
      "execution_count": 43,
      "outputs": [
        {
          "output_type": "stream",
          "text": [
            "41.578148710166914\n"
          ],
          "name": "stdout"
        }
      ]
    },
    {
      "cell_type": "markdown",
      "metadata": {
        "id": "lENfIWYRtbqR"
      },
      "source": [
        ""
      ]
    }
  ]
}